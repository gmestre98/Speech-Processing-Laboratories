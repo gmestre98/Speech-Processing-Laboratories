{
  "nbformat": 4,
  "nbformat_minor": 0,
  "metadata": {
    "accelerator": "GPU",
    "celltoolbar": "Slideshow",
    "colab": {
      "name": "Copy of Lab5_ASR",
      "provenance": [],
      "collapsed_sections": []
    },
    "kernelspec": {
      "display_name": "Python 3",
      "language": "python",
      "name": "python3"
    },
    "language_info": {
      "codemirror_mode": {
        "name": "ipython",
        "version": 3
      },
      "file_extension": ".py",
      "mimetype": "text/x-python",
      "name": "python",
      "nbconvert_exporter": "python",
      "pygments_lexer": "ipython3",
      "version": "3.7.4"
    }
  },
  "cells": [
    {
      "cell_type": "markdown",
      "metadata": {
        "colab_type": "text",
        "id": "qncY3FktdgMI"
      },
      "source": [
        "# [Lab 5] Neural end-to-end ASR <span style=\"color:red\">implementation</span> \n",
        "\n",
        "Adapted from colab presented at [Interspeech 2019 tutorial](https://colab.research.google.com/github/espnet/interspeech2019-tutorial/blob/master/notebooks/interspeech2019_asr/interspeech2019_asr.ipynb), by Shigeki Karita.\n",
        "\n",
        "\n",
        "Speech Processing Course, May, 2020\n",
        "\n",
        "\n",
        "Instituto Superior Técnico\n"
      ]
    },
    {
      "cell_type": "markdown",
      "metadata": {
        "colab_type": "text",
        "id": "pAOHL0Rq-6Hm"
      },
      "source": [
        "# A. Overview\n",
        "\n",
        "Automatic speech recognition (ASR) as a machine learning problem is a sequence-to-sequence problem. We want to find the most probable sequence of words given input features.\n",
        "\n",
        "ESPnet is a speech processing toolkit that provides bash recipes and python libraries for different speech processing tasks, including text-to-speech and ASR.\n",
        "You can find more details on ESPnet recipes [here](https://github.com/espnet/espnet/tree/master/egs) and on pretrained models [here](https://github.com/espnet/espnet#asr-results).\n",
        "\n",
        "**Open this colab in playground mode or save a copy to your own Google drive.**\n"
      ]
    },
    {
      "cell_type": "markdown",
      "metadata": {
        "colab_type": "text",
        "id": "BWdrn8p2_HxX"
      },
      "source": [
        "## B. Installation\n",
        "\n",
        "In Google colab, we can use pre-compiled binaries for fast startup (3 min):"
      ]
    },
    {
      "cell_type": "code",
      "metadata": {
        "colab_type": "code",
        "id": "mLxx6gVHwda6",
        "outputId": "41807b3a-2c89-46ad-972b-44fe87546b70",
        "colab": {
          "base_uri": "https://localhost:8080/",
          "height": 1000
        }
      },
      "source": [
        "# WARNING: This code takes a few minutes!\n",
        "# OS setup\n",
        "!cat /etc/os-release\n",
        "!apt-get install -qq bc tree sox\n",
        "\n",
        "# espnet setup\n",
        "!git clone --depth 5 https://github.com/espnet/espnet\n",
        "!pip install -q torch==1.5\n",
        "!cd espnet; pip install -q -e .\n",
        "\n",
        "# download pre-compiled warp-ctc and kaldi tools\n",
        "!espnet/utils/download_from_google_drive.sh \\\n",
        "    \"https://drive.google.com/open?id=13Y4tSygc8WtqzvAVGK_vRV9GlV7TRC0w\" espnet/tools tar.gz > /dev/null\n",
        "!cd espnet/tools/warp-ctc/pytorch_binding && \\\n",
        "    pip install -U dist/warpctc_pytorch-0.1.1-cp36-cp36m-linux_x86_64.whl\n",
        "\n",
        "# make dummy activate\n",
        "!mkdir -p espnet/tools/venv/bin && touch espnet/tools/venv/bin/activate\n",
        "!echo \"setup done.\""
      ],
      "execution_count": 2,
      "outputs": [
        {
          "output_type": "stream",
          "text": [
            "NAME=\"Ubuntu\"\n",
            "VERSION=\"18.04.3 LTS (Bionic Beaver)\"\n",
            "ID=ubuntu\n",
            "ID_LIKE=debian\n",
            "PRETTY_NAME=\"Ubuntu 18.04.3 LTS\"\n",
            "VERSION_ID=\"18.04\"\n",
            "HOME_URL=\"https://www.ubuntu.com/\"\n",
            "SUPPORT_URL=\"https://help.ubuntu.com/\"\n",
            "BUG_REPORT_URL=\"https://bugs.launchpad.net/ubuntu/\"\n",
            "PRIVACY_POLICY_URL=\"https://www.ubuntu.com/legal/terms-and-policies/privacy-policy\"\n",
            "VERSION_CODENAME=bionic\n",
            "UBUNTU_CODENAME=bionic\n",
            "Selecting previously unselected package libopencore-amrnb0:amd64.\n",
            "(Reading database ... 144439 files and directories currently installed.)\n",
            "Preparing to unpack .../0-libopencore-amrnb0_0.1.3-2.1_amd64.deb ...\n",
            "Unpacking libopencore-amrnb0:amd64 (0.1.3-2.1) ...\n",
            "Selecting previously unselected package libopencore-amrwb0:amd64.\n",
            "Preparing to unpack .../1-libopencore-amrwb0_0.1.3-2.1_amd64.deb ...\n",
            "Unpacking libopencore-amrwb0:amd64 (0.1.3-2.1) ...\n",
            "Selecting previously unselected package libmagic-mgc.\n",
            "Preparing to unpack .../2-libmagic-mgc_1%3a5.32-2ubuntu0.4_amd64.deb ...\n",
            "Unpacking libmagic-mgc (1:5.32-2ubuntu0.4) ...\n",
            "Selecting previously unselected package libmagic1:amd64.\n",
            "Preparing to unpack .../3-libmagic1_1%3a5.32-2ubuntu0.4_amd64.deb ...\n",
            "Unpacking libmagic1:amd64 (1:5.32-2ubuntu0.4) ...\n",
            "Selecting previously unselected package bc.\n",
            "Preparing to unpack .../4-bc_1.07.1-2_amd64.deb ...\n",
            "Unpacking bc (1.07.1-2) ...\n",
            "Selecting previously unselected package libsox3:amd64.\n",
            "Preparing to unpack .../5-libsox3_14.4.2-3ubuntu0.18.04.1_amd64.deb ...\n",
            "Unpacking libsox3:amd64 (14.4.2-3ubuntu0.18.04.1) ...\n",
            "Selecting previously unselected package libsox-fmt-alsa:amd64.\n",
            "Preparing to unpack .../6-libsox-fmt-alsa_14.4.2-3ubuntu0.18.04.1_amd64.deb ...\n",
            "Unpacking libsox-fmt-alsa:amd64 (14.4.2-3ubuntu0.18.04.1) ...\n",
            "Selecting previously unselected package libsox-fmt-base:amd64.\n",
            "Preparing to unpack .../7-libsox-fmt-base_14.4.2-3ubuntu0.18.04.1_amd64.deb ...\n",
            "Unpacking libsox-fmt-base:amd64 (14.4.2-3ubuntu0.18.04.1) ...\n",
            "Selecting previously unselected package sox.\n",
            "Preparing to unpack .../8-sox_14.4.2-3ubuntu0.18.04.1_amd64.deb ...\n",
            "Unpacking sox (14.4.2-3ubuntu0.18.04.1) ...\n",
            "Selecting previously unselected package tree.\n",
            "Preparing to unpack .../9-tree_1.7.0-5_amd64.deb ...\n",
            "Unpacking tree (1.7.0-5) ...\n",
            "Setting up tree (1.7.0-5) ...\n",
            "Setting up libmagic-mgc (1:5.32-2ubuntu0.4) ...\n",
            "Setting up libmagic1:amd64 (1:5.32-2ubuntu0.4) ...\n",
            "Setting up libopencore-amrnb0:amd64 (0.1.3-2.1) ...\n",
            "Setting up bc (1.07.1-2) ...\n",
            "Setting up libopencore-amrwb0:amd64 (0.1.3-2.1) ...\n",
            "Setting up libsox3:amd64 (14.4.2-3ubuntu0.18.04.1) ...\n",
            "Setting up libsox-fmt-base:amd64 (14.4.2-3ubuntu0.18.04.1) ...\n",
            "Setting up libsox-fmt-alsa:amd64 (14.4.2-3ubuntu0.18.04.1) ...\n",
            "Setting up sox (14.4.2-3ubuntu0.18.04.1) ...\n",
            "Processing triggers for libc-bin (2.27-3ubuntu1) ...\n",
            "/sbin/ldconfig.real: /usr/local/lib/python3.6/dist-packages/ideep4py/lib/libmkldnn.so.0 is not a symbolic link\n",
            "\n",
            "Processing triggers for man-db (2.8.3-2ubuntu0.1) ...\n",
            "Processing triggers for mime-support (3.60ubuntu1) ...\n",
            "Cloning into 'espnet'...\n",
            "remote: Enumerating objects: 2217, done.\u001b[K\n",
            "remote: Counting objects: 100% (2217/2217), done.\u001b[K\n",
            "remote: Compressing objects: 100% (1731/1731), done.\u001b[K\n",
            "remote: Total 2217 (delta 655), reused 988 (delta 265), pack-reused 0\u001b[K\n",
            "Receiving objects: 100% (2217/2217), 2.52 MiB | 8.76 MiB/s, done.\n",
            "Resolving deltas: 100% (655/655), done.\n",
            "\u001b[K     |████████████████████████████████| 51kB 4.2MB/s \n",
            "\u001b[K     |████████████████████████████████| 92kB 5.3MB/s \n",
            "\u001b[K     |████████████████████████████████| 174kB 18.7MB/s \n",
            "\u001b[K     |████████████████████████████████| 890kB 18.9MB/s \n",
            "\u001b[K     |████████████████████████████████| 204kB 34.2MB/s \n",
            "\u001b[K     |████████████████████████████████| 1.6MB 41.8MB/s \n",
            "\u001b[K     |████████████████████████████████| 419kB 47.5MB/s \n",
            "\u001b[K     |████████████████████████████████| 1.0MB 50.7MB/s \n",
            "\u001b[K     |████████████████████████████████| 1.4MB 53.6MB/s \n",
            "\u001b[K     |████████████████████████████████| 276kB 52.8MB/s \n",
            "\u001b[K     |████████████████████████████████| 2.8MB 47.5MB/s \n",
            "\u001b[K     |████████████████████████████████| 245kB 50.7MB/s \n",
            "\u001b[K     |████████████████████████████████| 3.1MB 48.8MB/s \n",
            "\u001b[K     |████████████████████████████████| 1.7MB 47.8MB/s \n",
            "\u001b[K     |████████████████████████████████| 1.2MB 40.3MB/s \n",
            "\u001b[K     |████████████████████████████████| 184kB 56.9MB/s \n",
            "\u001b[K     |████████████████████████████████| 368kB 47.2MB/s \n",
            "\u001b[K     |████████████████████████████████| 7.1MB 17.1MB/s \n",
            "\u001b[K     |████████████████████████████████| 92kB 11.1MB/s \n",
            "\u001b[K     |████████████████████████████████| 757kB 46.4MB/s \n",
            "\u001b[K     |████████████████████████████████| 460kB 49.8MB/s \n",
            "\u001b[33mWARNING: Retrying (Retry(total=4, connect=None, read=None, redirect=None, status=None)) after connection broken by 'ProtocolError('Connection aborted.', ConnectionResetError(104, 'Connection reset by peer'))': /simple/stempeg/\u001b[0m\n",
            "\u001b[K     |████████████████████████████████| 512kB 48.6MB/s \n",
            "\u001b[?25h  Building wheel for configargparse (setup.py) ... \u001b[?25l\u001b[?25hdone\n",
            "  Building wheel for chainer (setup.py) ... \u001b[?25l\u001b[?25hdone\n",
            "  Building wheel for librosa (setup.py) ... \u001b[?25l\u001b[?25hdone\n",
            "  Building wheel for pysptk (setup.py) ... \u001b[?25l\u001b[?25hdone\n",
            "  Building wheel for nltk (setup.py) ... \u001b[?25l\u001b[?25hdone\n",
            "  Building wheel for PyYAML (setup.py) ... \u001b[?25l\u001b[?25hdone\n",
            "  Building wheel for kaldiio (setup.py) ... \u001b[?25l\u001b[?25hdone\n",
            "  Building wheel for jaconv (setup.py) ... \u001b[?25l\u001b[?25hdone\n",
            "  Building wheel for nnmnkwii (setup.py) ... \u001b[?25l\u001b[?25hdone\n",
            "  Building wheel for pystoi (setup.py) ... \u001b[?25l\u001b[?25hdone\n",
            "  Building wheel for distance (setup.py) ... \u001b[?25l\u001b[?25hdone\n",
            "  Building wheel for bandmat (setup.py) ... \u001b[?25l\u001b[?25hdone\n",
            "  Building wheel for simplejson (setup.py) ... \u001b[?25l\u001b[?25hdone\n",
            "  Building wheel for clint (setup.py) ... \u001b[?25l\u001b[?25hdone\n",
            "  Building wheel for args (setup.py) ... \u001b[?25l\u001b[?25hdone\n",
            "\u001b[31mERROR: tensorflow 2.2.0 has requirement h5py<2.11.0,>=2.10.0, but you'll have h5py 2.9.0 which is incompatible.\u001b[0m\n",
            "\u001b[31mERROR: tensorflow 2.2.0 has requirement protobuf>=3.8.0, but you'll have protobuf 3.7.1 which is incompatible.\u001b[0m\n",
            "\u001b[31mERROR: tensorflow-hub 0.8.0 has requirement protobuf>=3.8.0, but you'll have protobuf 3.7.1 which is incompatible.\u001b[0m\n",
            "\u001b[31mERROR: tensorboardx 2.0 has requirement protobuf>=3.8.0, but you'll have protobuf 3.7.1 which is incompatible.\u001b[0m\n",
            "\u001b[31mERROR: languageflow 1.1.13a1 has requirement joblib==0.13.2, but you'll have joblib 0.15.1 which is incompatible.\u001b[0m\n",
            "\u001b[31mERROR: languageflow 1.1.13a1 has requirement scikit-learn==0.20.3, but you'll have scikit-learn 0.22.2.post1 which is incompatible.\u001b[0m\n",
            "\u001b[31mERROR: underthesea 1.1.17 has requirement nltk<3.5,>=3.4, but you'll have nltk 3.5 which is incompatible.\u001b[0m\n",
            "--2020-06-01 09:31:05--  https://drive.google.com/uc?export=download&id=13Y4tSygc8WtqzvAVGK_vRV9GlV7TRC0w\n",
            "Resolving drive.google.com (drive.google.com)... 108.177.126.100, 108.177.126.138, 108.177.126.139, ...\n",
            "Connecting to drive.google.com (drive.google.com)|108.177.126.100|:443... connected.\n",
            "HTTP request sent, awaiting response... 200 OK\n",
            "Length: unspecified [text/html]\n",
            "Saving to: ‘espnet/tools/V3XiEx.tar.gz’\n",
            "\n",
            "espnet/tools/V3XiEx     [ <=>                ]   3.22K  --.-KB/s    in 0s      \n",
            "\n",
            "2020-06-01 09:31:06 (38.5 MB/s) - ‘espnet/tools/V3XiEx.tar.gz’ saved [3296]\n",
            "\n",
            "\n",
            "gzip: stdin: not in gzip format\n",
            "tar: Child returned status 1\n",
            "tar: Error is not recoverable: exiting now\n",
            "  % Total    % Received % Xferd  Average Speed   Time    Time     Time  Current\n",
            "                                 Dload  Upload   Total   Spent    Left  Speed\n",
            "100  3296    0  3296    0     0  16902      0 --:--:-- --:--:-- --:--:-- 16902\n",
            "  % Total    % Received % Xferd  Average Speed   Time    Time     Time  Current\n",
            "                                 Dload  Upload   Total   Spent    Left  Speed\n",
            "100   408    0   408    0     0   1829      0 --:--:-- --:--:-- --:--:--  1829\n",
            "  0     0    0     0    0     0      0      0 --:--:-- --:--:-- --:--:--     0\n",
            "  0     0    0     0    0     0      0      0 --:--:-- --:--:-- --:--:--     0\n",
            "100  662M    0  662M    0     0  89.8M      0 --:--:--  0:00:07 --:--:--  109M\n",
            "Processing ./dist/warpctc_pytorch-0.1.1-cp36-cp36m-linux_x86_64.whl\n",
            "Installing collected packages: warpctc-pytorch\n",
            "Successfully installed warpctc-pytorch-0.1.1\n",
            "setup done.\n"
          ],
          "name": "stdout"
        }
      ]
    },
    {
      "cell_type": "markdown",
      "metadata": {
        "colab_type": "text",
        "id": "_6pH9DX1hTLj"
      },
      "source": [
        "# C. ESPnet pipeline\n",
        "\n",
        "The image shows all stages in the ASR pipeline, which are common in all recipes of ESPnet. The recipes can be found in `espnet/egs/xx/asr1/run.sh`.\n",
        "\n",
        "![image.png](https://github.com/espnet/interspeech2019-tutorial/blob/master/notebooks/interspeech2019_asr/figs/stages.png?raw=1)"
      ]
    },
    {
      "cell_type": "markdown",
      "metadata": {
        "colab_type": "text",
        "id": "A_ATcz0jnCcF"
      },
      "source": [
        "## C.1 Understand directory structure\n",
        "\n",
        "Each recipe directory contains the file `run.sh` and the following directories:\n",
        "\n",
        "- `conf/`: configurations for stages and machines\n",
        "- `data/`: folows a style similar to [Kaldi](https://kaldi-asr.org/doc/data_prep.html) in Stage 0 - 1\n",
        "- `dump/`: python-friendly dataset (e.g., json, hdf5) in Stage 2\n",
        "- `exp/`: log files, saved model parameters and results in Stage 3 - 5\n",
        "\n",
        "In this lab you will follow the an4 recipe, which uses the [Census Database](http://www.speech.cs.cmu.edu/databases/an4/). Run the following cell to inspect the structure of the an4 directory. \n"
      ]
    },
    {
      "cell_type": "code",
      "metadata": {
        "colab_type": "code",
        "id": "gsVAFRyNmr_h",
        "outputId": "554ad072-a6f2-4ee2-ef9b-9e1ba5c47c8e",
        "colab": {
          "base_uri": "https://localhost:8080/",
          "height": 208
        }
      },
      "source": [
        "!tree -L 1 espnet/egs/an4/asr1"
      ],
      "execution_count": 0,
      "outputs": [
        {
          "output_type": "stream",
          "text": [
            "espnet/egs/an4/asr1\n",
            "├── cmd.sh\n",
            "├── conf\n",
            "├── local\n",
            "├── path.sh\n",
            "├── RESULTS\n",
            "├── run.sh\n",
            "├── steps -> ../../../tools/kaldi/egs/wsj/s5/steps\n",
            "└── utils -> ../../../tools/kaldi/egs/wsj/s5/utils\n",
            "\n",
            "4 directories, 4 files\n"
          ],
          "name": "stdout"
        }
      ]
    },
    {
      "cell_type": "markdown",
      "metadata": {
        "colab_type": "text",
        "id": "WkkVjeBM_PNo"
      },
      "source": [
        "## C.2 Data preparation (Stage 0 - 2)\n",
        "\n",
        "Stages 0 to 2 will take care of data preparation. To run only some stages of the recipe we can use the flag `--stop-stage`.\n",
        "For example, if you add `--stop-stage 2`, you can stop the script before neural network training.\n",
        "\n",
        "These stages perform filter-bank (fbank) feature extraction from speech, normalization, and text formatting.\n",
        "\n",
        "![image.png](https://github.com/espnet/interspeech2019-tutorial/blob/master/notebooks/interspeech2019_asr/figs/stages_prep.png?raw=1)"
      ]
    },
    {
      "cell_type": "code",
      "metadata": {
        "colab_type": "code",
        "id": "YMMmYjCDBtSm",
        "outputId": "fcec7cf3-3164-4f35-dcc3-e23176d3944c",
        "colab": {
          "base_uri": "https://localhost:8080/",
          "height": 679
        }
      },
      "source": [
        "!cd espnet/egs/an4/asr1; ./run.sh  --ngpu 1 --stop-stage 2"
      ],
      "execution_count": 72,
      "outputs": [
        {
          "output_type": "stream",
          "text": [
            "stage -1: Data Download\n",
            "local/download_and_untar.sh: an4 directory already exists in ./downloads\n",
            "stage 0: Data preparation\n",
            "stage 1: Feature Generation\n",
            "steps/make_fbank_pitch.sh --cmd run.pl --nj 8 --write_utt2num_frames true data/test exp/make_fbank/test fbank\n",
            "utils/validate_data_dir.sh: Successfully validated data-directory data/test\n",
            "steps/make_fbank_pitch.sh: [info]: no segments file exists: assuming wav.scp indexed by utterance.\n",
            "steps/make_fbank_pitch.sh: Succeeded creating filterbank and pitch features for test\n",
            "fix_data_dir.sh: kept all 130 utterances.\n",
            "fix_data_dir.sh: old files are kept in data/test/.backup\n",
            "steps/make_fbank_pitch.sh --cmd run.pl --nj 8 --write_utt2num_frames true data/train exp/make_fbank/train fbank\n",
            "steps/make_fbank_pitch.sh: moving data/train/feats.scp to data/train/.backup\n",
            "utils/validate_data_dir.sh: Successfully validated data-directory data/train\n",
            "steps/make_fbank_pitch.sh: [info]: no segments file exists: assuming wav.scp indexed by utterance.\n",
            "steps/make_fbank_pitch.sh: Succeeded creating filterbank and pitch features for train\n",
            "fix_data_dir.sh: kept all 948 utterances.\n",
            "fix_data_dir.sh: old files are kept in data/train/.backup\n",
            "utils/subset_data_dir.sh: reducing #utt from 948 to 100\n",
            "utils/subset_data_dir.sh: reducing #utt from 948 to 848\n",
            "compute-cmvn-stats scp:data/train_nodev/feats.scp data/train_nodev/cmvn.ark \n",
            "LOG (compute-cmvn-stats[5.5.428~1-29b3]:main():compute-cmvn-stats.cc:168) Wrote global CMVN stats to data/train_nodev/cmvn.ark\n",
            "LOG (compute-cmvn-stats[5.5.428~1-29b3]:main():compute-cmvn-stats.cc:171) Done accumulating CMVN stats for 848 utterances; 0 had errors.\n",
            "/content/espnet/egs/an4/asr1/../../../utils/dump.sh --cmd run.pl --nj 8 --do_delta false data/train_nodev/feats.scp data/train_nodev/cmvn.ark exp/dump_feats/train dump/train_nodev/deltafalse\n",
            "/content/espnet/egs/an4/asr1/../../../utils/dump.sh --cmd run.pl --nj 8 --do_delta false data/train_dev/feats.scp data/train_nodev/cmvn.ark exp/dump_feats/dev dump/train_dev/deltafalse\n",
            "/content/espnet/egs/an4/asr1/../../../utils/dump.sh --cmd run.pl --nj 8 --do_delta false data/train_dev/feats.scp data/train_nodev/cmvn.ark exp/dump_feats/recog/train_dev dump/train_dev/deltafalse\n",
            "/content/espnet/egs/an4/asr1/../../../utils/dump.sh --cmd run.pl --nj 8 --do_delta false data/test/feats.scp data/train_nodev/cmvn.ark exp/dump_feats/recog/test dump/test/deltafalse\n",
            "dictionary: data/lang_1char/train_nodev_units.txt\n",
            "stage 2: Dictionary and Json Data Preparation\n",
            "28 data/lang_1char/train_nodev_units.txt\n",
            "/content/espnet/egs/an4/asr1/../../../utils/data2json.sh --feat dump/train_nodev/deltafalse/feats.scp data/train_nodev data/lang_1char/train_nodev_units.txt\n",
            "/content/espnet/egs/an4/asr1/../../../utils/feat_to_shape.sh --cmd run.pl --nj 1 --filetype  --preprocess-conf  --verbose 0 dump/train_nodev/deltafalse/feats.scp data/train_nodev/tmp-YUfgG/input_1/shape.scp\n",
            "/content/espnet/egs/an4/asr1/../../../utils/data2json.sh --feat dump/train_dev/deltafalse/feats.scp data/train_dev data/lang_1char/train_nodev_units.txt\n",
            "/content/espnet/egs/an4/asr1/../../../utils/feat_to_shape.sh --cmd run.pl --nj 1 --filetype  --preprocess-conf  --verbose 0 dump/train_dev/deltafalse/feats.scp data/train_dev/tmp-fIEGK/input_1/shape.scp\n",
            "/content/espnet/egs/an4/asr1/../../../utils/data2json.sh --feat dump/train_dev/deltafalse/feats.scp data/train_dev data/lang_1char/train_nodev_units.txt\n",
            "/content/espnet/egs/an4/asr1/../../../utils/feat_to_shape.sh --cmd run.pl --nj 1 --filetype  --preprocess-conf  --verbose 0 dump/train_dev/deltafalse/feats.scp data/train_dev/tmp-lG4UO/input_1/shape.scp\n",
            "/content/espnet/egs/an4/asr1/../../../utils/data2json.sh --feat dump/test/deltafalse/feats.scp data/test data/lang_1char/train_nodev_units.txt\n",
            "/content/espnet/egs/an4/asr1/../../../utils/feat_to_shape.sh --cmd run.pl --nj 1 --filetype  --preprocess-conf  --verbose 0 dump/test/deltafalse/feats.scp data/test/tmp-qzhkn/input_1/shape.scp\n"
          ],
          "name": "stdout"
        }
      ]
    },
    {
      "cell_type": "markdown",
      "metadata": {
        "colab_type": "text",
        "id": "wb1c1mDIG5Fk"
      },
      "source": [
        "#### JSON dataset\n",
        "\n",
        "Stage 2 dumps the dataset of speech feature and trascription pairs into JSON format in `dump`directory. Inspect the content of data.json file with the following command."
      ]
    },
    {
      "cell_type": "code",
      "metadata": {
        "colab_type": "code",
        "id": "jnI9b6ukHQSe",
        "colab": {}
      },
      "source": [
        "!cat espnet/egs/an4/asr1/dump/train_dev/deltafalse/data.json"
      ],
      "execution_count": 0,
      "outputs": []
    },
    {
      "cell_type": "markdown",
      "metadata": {
        "colab_type": "text",
        "id": "xdguXokUwn7V"
      },
      "source": [
        "## C.3 Neural Network Training (Stage 3 - 4)\n",
        "Now you will execute stages 3 and 4 of the script `run.sh` to train the neural network (NN).\n",
        "\n",
        "You can configure NN training using the files `conf/train_xxx.yaml`. Tun the following cell to see the configuration files available in this recipe.\n",
        "\n",
        "![image.png](https://github.com/espnet/interspeech2019-tutorial/blob/master/notebooks/interspeech2019_asr/figs/stages_nn.png?raw=1)"
      ]
    },
    {
      "cell_type": "code",
      "metadata": {
        "id": "HvTHCN7Cbsln",
        "colab_type": "code",
        "outputId": "07acc86b-cbc6-455a-a799-28b8d46d6828",
        "colab": {
          "base_uri": "https://localhost:8080/",
          "height": 312
        }
      },
      "source": [
        "!tree espnet/egs/an4/asr1/conf"
      ],
      "execution_count": 5,
      "outputs": [
        {
          "output_type": "stream",
          "text": [
            "espnet/egs/an4/asr1/conf\n",
            "├── decode_ctcweight0.5.yaml\n",
            "├── decode_ctcweight1.0.yaml\n",
            "├── decode_v2_ctcweight0.5.yaml\n",
            "├── decode_v2_ctcweight1.0.yaml\n",
            "├── fbank.conf\n",
            "├── gpu.conf\n",
            "├── lm_seq_rnn.yaml\n",
            "├── lm_transformer.yaml\n",
            "├── lm.yaml\n",
            "├── pitch.conf\n",
            "├── queue.conf\n",
            "├── slurm.conf\n",
            "├── train_mtlalpha0.5.yaml\n",
            "└── train_mtlalpha1.0.yaml\n",
            "\n",
            "0 directories, 14 files\n"
          ],
          "name": "stdout"
        }
      ]
    },
    {
      "cell_type": "markdown",
      "metadata": {
        "id": "nmxmxTd4bslq",
        "colab_type": "text"
      },
      "source": [
        "#### Training config: RNN with Attention + CTC\n",
        "\n",
        "We will use the mtlalpha configuration, which corresponds to an recurrent neural network (RNN) model with Connectionist Temporal Classification (CTC) (version 1.0 - train_mtlalpha1.0.yaml) or CTC and attention (version 0.5 - train_mtlalpha0.5.yaml) \n",
        "\n",
        "You can find a complete list of other options [here](https://espnet.github.io/espnet/apis/espnet_bin.html#Named%20Arguments) and [here](https://espnet.github.io/espnet/_modules/espnet/nets/pytorch_backend/e2e_asr.html#E2E.add_arguments).\n",
        "\n",
        "Inspect the configuration file with the following code cell.\n",
        "\n",
        "Note that you should use RNN+CTC/attention for question 6 of the lab, and RNN+CTC for question 7 of the lab."
      ]
    },
    {
      "cell_type": "code",
      "metadata": {
        "colab_type": "code",
        "id": "Wmi7ggV4U_pv",
        "colab": {}
      },
      "source": [
        "!cat espnet/egs/an4/asr1/conf/train_mtlalpha0.5.yaml"
      ],
      "execution_count": 0,
      "outputs": []
    },
    {
      "cell_type": "markdown",
      "metadata": {
        "id": "JlikmzkNbsly",
        "colab_type": "text"
      },
      "source": [
        "#### Run Language Modelling (LM) and ASR NN training\n",
        "\n",
        "Run the following cell to perform stages 3 and 4."
      ]
    },
    {
      "cell_type": "code",
      "metadata": {
        "colab_type": "code",
        "id": "-vNl2QcXwOGS",
        "outputId": "d29869e3-5902-400b-8846-1e6bde36aad1",
        "colab": {
          "base_uri": "https://localhost:8080/",
          "height": 87
        }
      },
      "source": [
        "# WARNING: This code takes several minutes!\n",
        "!cd espnet/egs/an4/asr1; ./run.sh  --ngpu 1 --stage 3 --stop-stage 4 --train-config ./conf/train_mtlalpha0.5.yaml"
      ],
      "execution_count": 73,
      "outputs": [
        {
          "output_type": "stream",
          "text": [
            "dictionary: data/lang_1char/train_nodev_units.txt\n",
            "stage 3: LM Preparation\n",
            "WARNING:root:OOV rate = 0.00 %\n",
            "stage 4: Network Training\n"
          ],
          "name": "stdout"
        }
      ]
    },
    {
      "cell_type": "markdown",
      "metadata": {
        "colab_type": "text",
        "id": "2TA5RO6rVzlr"
      },
      "source": [
        "## C.4 Decoding and evaluation (Stage 5)\n",
        "\n",
        "Now you will perform the last stage of the pipeline: deconding and scoring.\n",
        "\n",
        "![image.png](https://github.com/espnet/interspeech2019-tutorial/blob/master/notebooks/interspeech2019_asr/figs/stages_eval.png?raw=1)"
      ]
    },
    {
      "cell_type": "markdown",
      "metadata": {
        "colab_type": "text",
        "id": "RLxqDSsXA3Xu"
      },
      "source": [
        "#### decoding YAML config\n",
        "\n",
        "Inspect the configuration file for decoding, running the next cell.\n",
        "\n",
        "The decoding score is computed as follows:\n",
        "\n",
        "$\\mathrm{argmax}_y (1 - \\lambda) \\log P_{dec}(y|x) + \\lambda \\log P_{ctc}(y|x) + \\gamma \\log P_{lm}(y) + b |y|$"
      ]
    },
    {
      "cell_type": "code",
      "metadata": {
        "colab_type": "code",
        "id": "NHtzMEczV3D1",
        "outputId": "c07f886a-24ca-4954-a486-569d4f3d9952",
        "colab": {
          "base_uri": "https://localhost:8080/",
          "height": 139
        }
      },
      "source": [
        "!cat espnet/egs/an4/asr1/conf/decode_ctcweight0.5.yaml"
      ],
      "execution_count": 66,
      "outputs": [
        {
          "output_type": "stream",
          "text": [
            "# decoding parameter\n",
            "beam-size: 20\n",
            "penalty: 0.0\n",
            "maxlenratio: 0.0\n",
            "minlenratio: 0.0\n",
            "ctc-weight: 0.5\n",
            "lm-weight: 1.0\n"
          ],
          "name": "stdout"
        }
      ]
    },
    {
      "cell_type": "markdown",
      "metadata": {
        "id": "CmhoJjYkbsmD",
        "colab_type": "text"
      },
      "source": [
        "#### Run ASR decoding"
      ]
    },
    {
      "cell_type": "code",
      "metadata": {
        "colab_type": "code",
        "id": "R-NBPjKeRGdF",
        "scrolled": true,
        "outputId": "e63e9c37-4b15-45e6-c76c-3db84f78d93b",
        "colab": {
          "base_uri": "https://localhost:8080/",
          "height": 800
        }
      },
      "source": [
        "# WARNING: This code takes several minutes!\n",
        "!cd espnet/egs/an4/asr1; source path.sh; \\\n",
        "  ./run.sh --stage 5 --decode-config $(change_yaml.py conf/decode_ctcweight0.5.yaml -a batchsize=0) --train-config conf/train_mtlalpha1.0.yaml\n",
        "\n",
        "!cd espnet/egs/an4/asr1; source path.sh; \\\n",
        "  ./run.sh --stage 5 --decode-config $(change_yaml.py conf/decode_ctcweight1.0.yaml -a batchsize=0) --train-config conf/train_mtlalpha1.0.yaml"
      ],
      "execution_count": 15,
      "outputs": [
        {
          "output_type": "stream",
          "text": [
            "dictionary: data/lang_1char/train_nodev_units.txt\n",
            "stage 5: Decoding\n",
            "2020-06-01 10:01:19,107 (splitjson:43) INFO: /usr/bin/python3 /content/espnet/egs/an4/asr1/../../../utils/splitjson.py --parts 8 dump/test/deltafalse/data.json\n",
            "2020-06-01 10:01:19,109 (splitjson:55) INFO: number of utterances = 130\n",
            "2020-06-01 10:01:19,115 (splitjson:43) INFO: /usr/bin/python3 /content/espnet/egs/an4/asr1/../../../utils/splitjson.py --parts 8 dump/train_dev/deltafalse/data.json\n",
            "2020-06-01 10:01:19,116 (splitjson:55) INFO: number of utterances = 100\n",
            "2020-06-01 10:09:06,221 (concatjson:36) INFO: /usr/bin/python3 /content/espnet/egs/an4/asr1/../../../utils/concatjson.py exp/train_nodev_pytorch_train_mtlalpha1.0/decode_train_dev_decode_ctcweight0.5_batchsize0_lm_word100/data.1.json exp/train_nodev_pytorch_train_mtlalpha1.0/decode_train_dev_decode_ctcweight0.5_batchsize0_lm_word100/data.2.json exp/train_nodev_pytorch_train_mtlalpha1.0/decode_train_dev_decode_ctcweight0.5_batchsize0_lm_word100/data.3.json exp/train_nodev_pytorch_train_mtlalpha1.0/decode_train_dev_decode_ctcweight0.5_batchsize0_lm_word100/data.4.json exp/train_nodev_pytorch_train_mtlalpha1.0/decode_train_dev_decode_ctcweight0.5_batchsize0_lm_word100/data.5.json exp/train_nodev_pytorch_train_mtlalpha1.0/decode_train_dev_decode_ctcweight0.5_batchsize0_lm_word100/data.6.json exp/train_nodev_pytorch_train_mtlalpha1.0/decode_train_dev_decode_ctcweight0.5_batchsize0_lm_word100/data.7.json exp/train_nodev_pytorch_train_mtlalpha1.0/decode_train_dev_decode_ctcweight0.5_batchsize0_lm_word100/data.8.json\n",
            "2020-06-01 10:09:06,224 (concatjson:46) INFO: new json has 100 utterances\n",
            "2020-06-01 10:09:07,191 (json2trn:44) INFO: /usr/bin/python3 /content/espnet/egs/an4/asr1/../../../utils/json2trn.py exp/train_nodev_pytorch_train_mtlalpha1.0/decode_train_dev_decode_ctcweight0.5_batchsize0_lm_word100/data.json data/lang_1char/train_nodev_units.txt --num-spkrs 1 --refs exp/train_nodev_pytorch_train_mtlalpha1.0/decode_train_dev_decode_ctcweight0.5_batchsize0_lm_word100/ref.trn --hyps exp/train_nodev_pytorch_train_mtlalpha1.0/decode_train_dev_decode_ctcweight0.5_batchsize0_lm_word100/hyp.trn\n",
            "2020-06-01 10:09:07,192 (json2trn:46) INFO: reading exp/train_nodev_pytorch_train_mtlalpha1.0/decode_train_dev_decode_ctcweight0.5_batchsize0_lm_word100/data.json\n",
            "2020-06-01 10:09:07,193 (json2trn:50) INFO: reading data/lang_1char/train_nodev_units.txt\n",
            "write a CER (or TER) result in exp/train_nodev_pytorch_train_mtlalpha1.0/decode_train_dev_decode_ctcweight0.5_batchsize0_lm_word100/result.txt\n",
            "|   SPKR      |   # Snt      # Wrd    |   Corr         Sub        Del         Ins         Err       S.Err    |\n",
            "|   Sum/Avg   |    100        1915    |   76.8         7.2       16.0         1.6        24.9        76.0    |\n",
            "2020-06-01 10:10:04,959 (concatjson:36) INFO: /usr/bin/python3 /content/espnet/egs/an4/asr1/../../../utils/concatjson.py exp/train_nodev_pytorch_train_mtlalpha1.0/decode_test_decode_ctcweight0.5_batchsize0_lm_word100/data.1.json exp/train_nodev_pytorch_train_mtlalpha1.0/decode_test_decode_ctcweight0.5_batchsize0_lm_word100/data.2.json exp/train_nodev_pytorch_train_mtlalpha1.0/decode_test_decode_ctcweight0.5_batchsize0_lm_word100/data.3.json exp/train_nodev_pytorch_train_mtlalpha1.0/decode_test_decode_ctcweight0.5_batchsize0_lm_word100/data.4.json exp/train_nodev_pytorch_train_mtlalpha1.0/decode_test_decode_ctcweight0.5_batchsize0_lm_word100/data.5.json exp/train_nodev_pytorch_train_mtlalpha1.0/decode_test_decode_ctcweight0.5_batchsize0_lm_word100/data.6.json exp/train_nodev_pytorch_train_mtlalpha1.0/decode_test_decode_ctcweight0.5_batchsize0_lm_word100/data.7.json exp/train_nodev_pytorch_train_mtlalpha1.0/decode_test_decode_ctcweight0.5_batchsize0_lm_word100/data.8.json\n",
            "2020-06-01 10:10:04,960 (concatjson:46) INFO: new json has 130 utterances\n",
            "2020-06-01 10:10:05,285 (json2trn:44) INFO: /usr/bin/python3 /content/espnet/egs/an4/asr1/../../../utils/json2trn.py exp/train_nodev_pytorch_train_mtlalpha1.0/decode_test_decode_ctcweight0.5_batchsize0_lm_word100/data.json data/lang_1char/train_nodev_units.txt --num-spkrs 1 --refs exp/train_nodev_pytorch_train_mtlalpha1.0/decode_test_decode_ctcweight0.5_batchsize0_lm_word100/ref.trn --hyps exp/train_nodev_pytorch_train_mtlalpha1.0/decode_test_decode_ctcweight0.5_batchsize0_lm_word100/hyp.trn\n",
            "2020-06-01 10:10:05,285 (json2trn:46) INFO: reading exp/train_nodev_pytorch_train_mtlalpha1.0/decode_test_decode_ctcweight0.5_batchsize0_lm_word100/data.json\n",
            "2020-06-01 10:10:05,286 (json2trn:50) INFO: reading data/lang_1char/train_nodev_units.txt\n",
            "write a CER (or TER) result in exp/train_nodev_pytorch_train_mtlalpha1.0/decode_test_decode_ctcweight0.5_batchsize0_lm_word100/result.txt\n",
            "|   SPKR     |   # Snt      # Wrd   |   Corr        Sub         Del        Ins        Err       S.Err   |\n",
            "|   Sum/Avg  |    130        2565   |   86.2        5.5         8.4        0.7       14.5        66.2   |\n",
            "dictionary: data/lang_1char/train_nodev_units.txt\n",
            "stage 5: Decoding\n",
            "2020-06-01 10:10:07,012 (splitjson:43) INFO: /usr/bin/python3 /content/espnet/egs/an4/asr1/../../../utils/splitjson.py --parts 8 dump/test/deltafalse/data.json\n",
            "2020-06-01 10:10:07,013 (splitjson:55) INFO: number of utterances = 130\n",
            "2020-06-01 10:10:07,015 (splitjson:43) INFO: /usr/bin/python3 /content/espnet/egs/an4/asr1/../../../utils/splitjson.py --parts 8 dump/train_dev/deltafalse/data.json\n",
            "2020-06-01 10:10:07,017 (splitjson:55) INFO: number of utterances = 100\n",
            "2020-06-01 10:17:21,407 (concatjson:36) INFO: /usr/bin/python3 /content/espnet/egs/an4/asr1/../../../utils/concatjson.py exp/train_nodev_pytorch_train_mtlalpha1.0/decode_train_dev_decode_ctcweight1.0_batchsize0_lm_word100/data.1.json exp/train_nodev_pytorch_train_mtlalpha1.0/decode_train_dev_decode_ctcweight1.0_batchsize0_lm_word100/data.2.json exp/train_nodev_pytorch_train_mtlalpha1.0/decode_train_dev_decode_ctcweight1.0_batchsize0_lm_word100/data.3.json exp/train_nodev_pytorch_train_mtlalpha1.0/decode_train_dev_decode_ctcweight1.0_batchsize0_lm_word100/data.4.json exp/train_nodev_pytorch_train_mtlalpha1.0/decode_train_dev_decode_ctcweight1.0_batchsize0_lm_word100/data.5.json exp/train_nodev_pytorch_train_mtlalpha1.0/decode_train_dev_decode_ctcweight1.0_batchsize0_lm_word100/data.6.json exp/train_nodev_pytorch_train_mtlalpha1.0/decode_train_dev_decode_ctcweight1.0_batchsize0_lm_word100/data.7.json exp/train_nodev_pytorch_train_mtlalpha1.0/decode_train_dev_decode_ctcweight1.0_batchsize0_lm_word100/data.8.json\n",
            "2020-06-01 10:17:21,415 (concatjson:46) INFO: new json has 100 utterances\n",
            "2020-06-01 10:17:22,431 (json2trn:44) INFO: /usr/bin/python3 /content/espnet/egs/an4/asr1/../../../utils/json2trn.py exp/train_nodev_pytorch_train_mtlalpha1.0/decode_train_dev_decode_ctcweight1.0_batchsize0_lm_word100/data.json data/lang_1char/train_nodev_units.txt --num-spkrs 1 --refs exp/train_nodev_pytorch_train_mtlalpha1.0/decode_train_dev_decode_ctcweight1.0_batchsize0_lm_word100/ref.trn --hyps exp/train_nodev_pytorch_train_mtlalpha1.0/decode_train_dev_decode_ctcweight1.0_batchsize0_lm_word100/hyp.trn\n",
            "2020-06-01 10:17:22,432 (json2trn:46) INFO: reading exp/train_nodev_pytorch_train_mtlalpha1.0/decode_train_dev_decode_ctcweight1.0_batchsize0_lm_word100/data.json\n",
            "2020-06-01 10:17:22,433 (json2trn:50) INFO: reading data/lang_1char/train_nodev_units.txt\n",
            "write a CER (or TER) result in exp/train_nodev_pytorch_train_mtlalpha1.0/decode_train_dev_decode_ctcweight1.0_batchsize0_lm_word100/result.txt\n",
            "|   SPKR      |   # Snt      # Wrd    |   Corr         Sub        Del         Ins         Err       S.Err    |\n",
            "|   Sum/Avg   |    100        1915    |   82.9         6.0       11.1         1.6        18.7        70.0    |\n",
            "2020-06-01 10:18:17,673 (concatjson:36) INFO: /usr/bin/python3 /content/espnet/egs/an4/asr1/../../../utils/concatjson.py exp/train_nodev_pytorch_train_mtlalpha1.0/decode_test_decode_ctcweight1.0_batchsize0_lm_word100/data.1.json exp/train_nodev_pytorch_train_mtlalpha1.0/decode_test_decode_ctcweight1.0_batchsize0_lm_word100/data.2.json exp/train_nodev_pytorch_train_mtlalpha1.0/decode_test_decode_ctcweight1.0_batchsize0_lm_word100/data.3.json exp/train_nodev_pytorch_train_mtlalpha1.0/decode_test_decode_ctcweight1.0_batchsize0_lm_word100/data.4.json exp/train_nodev_pytorch_train_mtlalpha1.0/decode_test_decode_ctcweight1.0_batchsize0_lm_word100/data.5.json exp/train_nodev_pytorch_train_mtlalpha1.0/decode_test_decode_ctcweight1.0_batchsize0_lm_word100/data.6.json exp/train_nodev_pytorch_train_mtlalpha1.0/decode_test_decode_ctcweight1.0_batchsize0_lm_word100/data.7.json exp/train_nodev_pytorch_train_mtlalpha1.0/decode_test_decode_ctcweight1.0_batchsize0_lm_word100/data.8.json\n",
            "2020-06-01 10:18:17,674 (concatjson:46) INFO: new json has 130 utterances\n",
            "2020-06-01 10:18:18,001 (json2trn:44) INFO: /usr/bin/python3 /content/espnet/egs/an4/asr1/../../../utils/json2trn.py exp/train_nodev_pytorch_train_mtlalpha1.0/decode_test_decode_ctcweight1.0_batchsize0_lm_word100/data.json data/lang_1char/train_nodev_units.txt --num-spkrs 1 --refs exp/train_nodev_pytorch_train_mtlalpha1.0/decode_test_decode_ctcweight1.0_batchsize0_lm_word100/ref.trn --hyps exp/train_nodev_pytorch_train_mtlalpha1.0/decode_test_decode_ctcweight1.0_batchsize0_lm_word100/hyp.trn\n",
            "2020-06-01 10:18:18,001 (json2trn:46) INFO: reading exp/train_nodev_pytorch_train_mtlalpha1.0/decode_test_decode_ctcweight1.0_batchsize0_lm_word100/data.json\n",
            "2020-06-01 10:18:18,002 (json2trn:50) INFO: reading data/lang_1char/train_nodev_units.txt\n",
            "write a CER (or TER) result in exp/train_nodev_pytorch_train_mtlalpha1.0/decode_test_decode_ctcweight1.0_batchsize0_lm_word100/result.txt\n",
            "|   SPKR     |   # Snt      # Wrd   |   Corr        Sub         Del        Ins        Err       S.Err   |\n",
            "|   Sum/Avg  |    130        2565   |   90.6        4.3         5.1        0.5        9.9        54.6   |\n"
          ],
          "name": "stdout"
        }
      ]
    },
    {
      "cell_type": "markdown",
      "metadata": {
        "colab_type": "text",
        "id": "Q--YOTde-6Jf"
      },
      "source": [
        "## C.5 Check evaluation results\n",
        "\n",
        "The results obtained at the character level are saved in the directory `exp/(train dir)/(decode dir)/result.txt`. Run the following cells to inspect the results."
      ]
    },
    {
      "cell_type": "code",
      "metadata": {
        "colab_type": "code",
        "id": "53mLnajH-6Ji",
        "colab": {
          "base_uri": "https://localhost:8080/",
          "height": 107
        },
        "outputId": "267ad1ad-0a90-4ec1-84e8-808eee312644"
      },
      "source": [
        "!ls espnet/egs/an4/asr1/exp/train_nodev_pytorch_train_mtlalpha0.5/*/result.txt | xargs -n1 grep -e Avg -e SPK -m 2"
      ],
      "execution_count": 10,
      "outputs": [
        {
          "output_type": "stream",
          "text": [
            "|   SPKR     |   # Snt      # Wrd   |   Corr        Sub         Del        Ins        Err       S.Err   |\n",
            "|   Sum/Avg  |    130        2565   |   86.5        6.6         6.9        1.1       14.6        64.6   |\n",
            "|   SPKR      |   # Snt      # Wrd    |   Corr         Sub        Del         Ins         Err       S.Err    |\n",
            "|   Sum/Avg   |    100        1915    |   79.8         7.4       12.7         1.8        22.0        71.0    |\n"
          ],
          "name": "stdout"
        }
      ]
    },
    {
      "cell_type": "code",
      "metadata": {
        "colab_type": "code",
        "id": "ttWGrjVi-6Jm",
        "scrolled": true,
        "colab": {
          "base_uri": "https://localhost:8080/",
          "height": 661
        },
        "outputId": "d205415f-c003-47e7-ed24-fa924d7e6620"
      },
      "source": [
        "!head -n 36 espnet/egs/an4/asr1/exp/train_nodev_pytorch_train_mtlalpha0.5/decode_test_decode_ctcweight0.5_batchsize0_lm_word100/result.txt"
      ],
      "execution_count": 11,
      "outputs": [
        {
          "output_type": "stream",
          "text": [
            "\n",
            "\n",
            "\n",
            "                     SYSTEM SUMMARY PERCENTAGES by SPEAKER                      \n",
            "\n",
            ",-------------------------------------------------------------------------------------------------------.\n",
            "|exp/train_nodev_pytorch_train_mtlalpha0.5/decode_test_decode_ctcweight0.5_batchsize0_lm_word100/hyp.trn|\n",
            "|-------------------------------------------------------------------------------------------------------|\n",
            "|   SPKR     |   # Snt      # Wrd   |   Corr        Sub         Del        Ins        Err       S.Err   |\n",
            "|------------+----------------------+-------------------------------------------------------------------|\n",
            "|   fcaw     |     13         237   |   89.0        9.7         1.3        1.7       12.7        69.2   |\n",
            "|------------+----------------------+-------------------------------------------------------------------|\n",
            "|   fjlp     |     13         242   |   91.3        3.3         5.4        0.0        8.7        53.8   |\n",
            "|------------+----------------------+-------------------------------------------------------------------|\n",
            "|   fvap     |     13         274   |   81.0        8.8        10.2        2.6       21.5        92.3   |\n",
            "|------------+----------------------+-------------------------------------------------------------------|\n",
            "|   marh     |     13         276   |   82.6        8.3         9.1        1.1       18.5        69.2   |\n",
            "|------------+----------------------+-------------------------------------------------------------------|\n",
            "|   mdms2    |     13         274   |   92.3        6.2         1.5        1.5        9.1        61.5   |\n",
            "|------------+----------------------+-------------------------------------------------------------------|\n",
            "|   menk     |     13         258   |   90.7        6.2         3.1        0.4        9.7        53.8   |\n",
            "|------------+----------------------+-------------------------------------------------------------------|\n",
            "|   miry     |     13         274   |   92.7        5.8         1.5        1.8        9.1        53.8   |\n",
            "|------------+----------------------+-------------------------------------------------------------------|\n",
            "|   mjgm     |     13         226   |   77.0        4.4        18.6        0.0       23.0        61.5   |\n",
            "|------------+----------------------+-------------------------------------------------------------------|\n",
            "|   mjwl     |     13         241   |   79.3        5.8        14.9        0.4       21.2        69.2   |\n",
            "|------------+----------------------+-------------------------------------------------------------------|\n",
            "|   mmxg     |     13         263   |   88.2        6.8         4.9        1.5       13.3        61.5   |\n",
            "|=======================================================================================================|\n",
            "|   Sum/Avg  |    130        2565   |   86.5        6.6         6.9        1.1       14.6        64.6   |\n",
            "|=======================================================================================================|\n",
            "|    Mean    |   13.0       256.5   |   86.4        6.5         7.0        1.1       14.7        64.6   |\n",
            "|    S.D.    |    0.0        18.6   |    5.9        2.0         6.0        0.9        5.8        11.6   |\n",
            "|   Median   |   13.0       260.5   |   88.6        6.2         5.2        1.3       13.0        61.5   |\n",
            "`-------------------------------------------------------------------------------------------------------'\n"
          ],
          "name": "stdout"
        }
      ]
    },
    {
      "cell_type": "code",
      "metadata": {
        "colab_type": "code",
        "id": "ySmA0inA-6Ju",
        "scrolled": true,
        "colab": {
          "base_uri": "https://localhost:8080/",
          "height": 139
        },
        "outputId": "f1f67cb2-d36a-416d-b273-b47d1c71f2fb"
      },
      "source": [
        "!tail -n 7 espnet/egs/an4/asr1/exp/train_nodev_pytorch_train_mtlalpha0.5/decode_test_decode_ctcweight0.5_batchsize0_lm_word100/result.txt"
      ],
      "execution_count": 12,
      "outputs": [
        {
          "output_type": "stream",
          "text": [
            "id: (mmxg-mmxg-cen8-b)\n",
            "Scores: (#C #S #D #I) 26 2 8 0\n",
            "REF:  O C t O B e r <space> t w e n t y <space> f o u r <space> n i n E T E e N <space> s e v e n T Y \n",
            "HYP:  E N t * * e r <space> t w e n t y <space> f o u r <space> n i n * * * e * <space> s e v e n * * \n",
            "Eval: S S   D D                                                       D D D   D                   D D \n",
            "\n",
            "\n"
          ],
          "name": "stdout"
        }
      ]
    },
    {
      "cell_type": "markdown",
      "metadata": {
        "colab_type": "text",
        "id": "Saco557TUXrS"
      },
      "source": [
        "# D. Include your own recordings in the test set\n",
        "\n",
        "Now you will record some utterances and include them in the test set, to evaluate how the model performs. \n",
        "Follow the steps in question 9 in the lab guide, and write the necessary code below this section.\n"
      ]
    },
    {
      "cell_type": "code",
      "metadata": {
        "id": "MvXRgBtmgbdR",
        "colab_type": "code",
        "colab": {
          "base_uri": "https://localhost:8080/",
          "height": 52
        },
        "outputId": "d668dace-d934-47a2-f151-72f8ad121753"
      },
      "source": [
        "# 9.2 Insert your code below these lines, before running this cell,\n",
        "# if you choose to perform this task with a command, or else you can do it \n",
        "# directly on the tree structure on the left.\n",
        "!mkdir -p espnet/egs/an4/asr1/downloads/my_test/ricardo\n",
        "!mkdir -p espnet/egs/an4/asr1/downloads/my_test/goncalo\n"
      ],
      "execution_count": 16,
      "outputs": [
        {
          "output_type": "stream",
          "text": [
            "rm: cannot remove 'espnet/egs/an4/asr1/downloads/my_test/ricardo': No such file or directory\n",
            "rm: cannot remove 'espnet/egs/an4/asr1/downloads/my_test/goncalo': No such file or directory\n"
          ],
          "name": "stdout"
        }
      ]
    },
    {
      "cell_type": "code",
      "metadata": {
        "id": "UmHq5--FgWH-",
        "colab_type": "code",
        "colab": {
          "base_uri": "https://localhost:8080/",
          "height": 35
        },
        "outputId": "a8b0d857-91f7-4015-c7c9-c6dc04d0b765"
      },
      "source": [
        "# 9.3 Insert your code below this line,  before running this cell,\n",
        "# if you choose to perform this task with a command, or else you can do it \n",
        "# directly on the tree structure on the left.\n",
        "!mkdir -p espnet/egs/an4/asr1/data/test_backup\n",
        "!cp -r espnet/egs/an4/asr1/data/test/* espnet/egs/an4/asr1/data/test_backup\n",
        "!rm espnet/egs/an4/asr1/data/test/* "
      ],
      "execution_count": 74,
      "outputs": [
        {
          "output_type": "stream",
          "text": [
            "rm: cannot remove 'espnet/egs/an4/asr1/data/test/conf': Is a directory\n"
          ],
          "name": "stdout"
        }
      ]
    },
    {
      "cell_type": "code",
      "metadata": {
        "id": "bHhZkQDhsGQT",
        "colab_type": "code",
        "colab": {
          "base_uri": "https://localhost:8080/",
          "height": 173
        },
        "outputId": "3fcd8f09-17ec-4fc2-8501-fd5cecbb3afa"
      },
      "source": [
        "# 9.4 After uploading wav.scp, utt2spk and text, inspect the content if the directpry test to make sure you find the files:\n",
        "# test/wav.scp test/utt2spk test/text test/conf/fbank.conf test/conf/pitch.conf\n",
        "!tree espnet/egs/an4/asr1/data/test/"
      ],
      "execution_count": 75,
      "outputs": [
        {
          "output_type": "stream",
          "text": [
            "espnet/egs/an4/asr1/data/test/\n",
            "├── conf\n",
            "│   ├── fbank.conf\n",
            "│   └── pitch.conf\n",
            "├── text\n",
            "├── utt2spk\n",
            "└── wav.scp\n",
            "\n",
            "1 directory, 5 files\n"
          ],
          "name": "stdout"
        }
      ]
    },
    {
      "cell_type": "code",
      "metadata": {
        "id": "2dJuNvEIgd99",
        "colab_type": "code",
        "colab": {
          "base_uri": "https://localhost:8080/",
          "height": 104
        },
        "outputId": "ac719416-98f1-430a-9139-9bffd4a07fbd"
      },
      "source": [
        "# 9.5 Run this cell to sort the kaldi files generated, and to generate the rest of the necessary files:\n",
        "!cd espnet/egs/an4/asr1; utils/fix_data_dir.sh data/test"
      ],
      "execution_count": 76,
      "outputs": [
        {
          "output_type": "stream",
          "text": [
            "utils/fix_data_dir.sh: file data/test/utt2spk is not in sorted order or not unique, sorting it\n",
            "utils/fix_data_dir.sh: file data/test/text is not in sorted order or not unique, sorting it\n",
            "utils/fix_data_dir.sh: file data/test/wav.scp is not in sorted order or not unique, sorting it\n",
            "fix_data_dir.sh: kept all 134 utterances.\n",
            "fix_data_dir.sh: old files are kept in data/test/.backup\n"
          ],
          "name": "stdout"
        }
      ]
    },
    {
      "cell_type": "code",
      "metadata": {
        "colab_type": "code",
        "id": "lU8qZ2zEX2zd",
        "colab": {
          "base_uri": "https://localhost:8080/",
          "height": 110
        },
        "outputId": "572deaa1-9876-4268-86a1-e5ecf73dd0a9"
      },
      "source": [
        "# Listen to the recordings you generated. Insert the correct file_id in key=.... and then run this cell.\n",
        "!pip install kaldiio\n",
        "\n",
        "import os\n",
        "import kaldiio\n",
        "from IPython.display import Audio\n",
        "\n",
        "key=\"mmxg-an445-b\"\n",
        "root = \"espnet/egs/an4/asr1\"\n",
        "\n",
        "try:\n",
        "  d = os.getcwd()\n",
        "  os.chdir(root)\n",
        "  sr, wav = kaldiio.load_scp(\"data/test/wav.scp\")[key]\n",
        "finally:\n",
        "  os.chdir(d)\n",
        "Audio(wav, rate=sr)"
      ],
      "execution_count": 33,
      "outputs": [
        {
          "output_type": "stream",
          "text": [
            "Requirement already satisfied: kaldiio in /usr/local/lib/python3.6/dist-packages (2.15.1)\n",
            "Requirement already satisfied: numpy in /usr/local/lib/python3.6/dist-packages (from kaldiio) (1.18.4)\n"
          ],
          "name": "stdout"
        },
        {
          "output_type": "execute_result",
          "data": {
            "text/html": [
              "\n",
              "                <audio controls=\"controls\" >\n",
              "                    <source src=\"data:audio/wav;base64,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\" type=\"audio/wav\" />\n",
              "                    Your browser does not support the audio element.\n",
              "                </audio>\n",
              "              "
            ],
            "text/plain": [
              "<IPython.lib.display.Audio object>"
            ]
          },
          "metadata": {
            "tags": []
          },
          "execution_count": 33
        }
      ]
    },
    {
      "cell_type": "code",
      "metadata": {
        "id": "v47l629sgssB",
        "colab_type": "code",
        "colab": {
          "base_uri": "https://localhost:8080/",
          "height": 627
        },
        "outputId": "d0e773b4-a362-4c55-9fbc-57b66165ca29"
      },
      "source": [
        "# 9.6 Insert your code below this line, before running this cell:\n",
        "!cd espnet/egs/an4/asr1; ./run.sh  --ngpu 1 --stage 1 --stop-stage 2"
      ],
      "execution_count": 77,
      "outputs": [
        {
          "output_type": "stream",
          "text": [
            "stage 1: Feature Generation\n",
            "steps/make_fbank_pitch.sh --cmd run.pl --nj 8 --write_utt2num_frames true data/test exp/make_fbank/test fbank\n",
            "utils/validate_data_dir.sh: Successfully validated data-directory data/test\n",
            "steps/make_fbank_pitch.sh: [info]: no segments file exists: assuming wav.scp indexed by utterance.\n",
            "steps/make_fbank_pitch.sh: Succeeded creating filterbank and pitch features for test\n",
            "fix_data_dir.sh: kept all 134 utterances.\n",
            "fix_data_dir.sh: old files are kept in data/test/.backup\n",
            "steps/make_fbank_pitch.sh --cmd run.pl --nj 8 --write_utt2num_frames true data/train exp/make_fbank/train fbank\n",
            "steps/make_fbank_pitch.sh: moving data/train/feats.scp to data/train/.backup\n",
            "utils/validate_data_dir.sh: Successfully validated data-directory data/train\n",
            "steps/make_fbank_pitch.sh: [info]: no segments file exists: assuming wav.scp indexed by utterance.\n",
            "steps/make_fbank_pitch.sh: Succeeded creating filterbank and pitch features for train\n",
            "fix_data_dir.sh: kept all 948 utterances.\n",
            "fix_data_dir.sh: old files are kept in data/train/.backup\n",
            "utils/subset_data_dir.sh: reducing #utt from 948 to 100\n",
            "utils/subset_data_dir.sh: reducing #utt from 948 to 848\n",
            "compute-cmvn-stats scp:data/train_nodev/feats.scp data/train_nodev/cmvn.ark \n",
            "LOG (compute-cmvn-stats[5.5.428~1-29b3]:main():compute-cmvn-stats.cc:168) Wrote global CMVN stats to data/train_nodev/cmvn.ark\n",
            "LOG (compute-cmvn-stats[5.5.428~1-29b3]:main():compute-cmvn-stats.cc:171) Done accumulating CMVN stats for 848 utterances; 0 had errors.\n",
            "/content/espnet/egs/an4/asr1/../../../utils/dump.sh --cmd run.pl --nj 8 --do_delta false data/train_nodev/feats.scp data/train_nodev/cmvn.ark exp/dump_feats/train dump/train_nodev/deltafalse\n",
            "/content/espnet/egs/an4/asr1/../../../utils/dump.sh --cmd run.pl --nj 8 --do_delta false data/train_dev/feats.scp data/train_nodev/cmvn.ark exp/dump_feats/dev dump/train_dev/deltafalse\n",
            "/content/espnet/egs/an4/asr1/../../../utils/dump.sh --cmd run.pl --nj 8 --do_delta false data/train_dev/feats.scp data/train_nodev/cmvn.ark exp/dump_feats/recog/train_dev dump/train_dev/deltafalse\n",
            "/content/espnet/egs/an4/asr1/../../../utils/dump.sh --cmd run.pl --nj 8 --do_delta false data/test/feats.scp data/train_nodev/cmvn.ark exp/dump_feats/recog/test dump/test/deltafalse\n",
            "dictionary: data/lang_1char/train_nodev_units.txt\n",
            "stage 2: Dictionary and Json Data Preparation\n",
            "28 data/lang_1char/train_nodev_units.txt\n",
            "/content/espnet/egs/an4/asr1/../../../utils/data2json.sh --feat dump/train_nodev/deltafalse/feats.scp data/train_nodev data/lang_1char/train_nodev_units.txt\n",
            "/content/espnet/egs/an4/asr1/../../../utils/feat_to_shape.sh --cmd run.pl --nj 1 --filetype  --preprocess-conf  --verbose 0 dump/train_nodev/deltafalse/feats.scp data/train_nodev/tmp-pBOzL/input_1/shape.scp\n",
            "/content/espnet/egs/an4/asr1/../../../utils/data2json.sh --feat dump/train_dev/deltafalse/feats.scp data/train_dev data/lang_1char/train_nodev_units.txt\n",
            "/content/espnet/egs/an4/asr1/../../../utils/feat_to_shape.sh --cmd run.pl --nj 1 --filetype  --preprocess-conf  --verbose 0 dump/train_dev/deltafalse/feats.scp data/train_dev/tmp-hejSX/input_1/shape.scp\n",
            "/content/espnet/egs/an4/asr1/../../../utils/data2json.sh --feat dump/train_dev/deltafalse/feats.scp data/train_dev data/lang_1char/train_nodev_units.txt\n",
            "/content/espnet/egs/an4/asr1/../../../utils/feat_to_shape.sh --cmd run.pl --nj 1 --filetype  --preprocess-conf  --verbose 0 dump/train_dev/deltafalse/feats.scp data/train_dev/tmp-VVgZq/input_1/shape.scp\n",
            "/content/espnet/egs/an4/asr1/../../../utils/data2json.sh --feat dump/test/deltafalse/feats.scp data/test data/lang_1char/train_nodev_units.txt\n",
            "/content/espnet/egs/an4/asr1/../../../utils/feat_to_shape.sh --cmd run.pl --nj 1 --filetype  --preprocess-conf  --verbose 0 dump/test/deltafalse/feats.scp data/test/tmp-dr4qr/input_1/shape.scp\n"
          ],
          "name": "stdout"
        }
      ]
    },
    {
      "cell_type": "code",
      "metadata": {
        "id": "Cx_LYzwqguSF",
        "colab_type": "code",
        "colab": {
          "base_uri": "https://localhost:8080/",
          "height": 87
        },
        "outputId": "982373dc-a08a-43a5-e2ec-5883be776180"
      },
      "source": [
        "# 9.7 Make sure that you were able to extract features for your recordings. Replace the string \"studentname\" with your name.\n",
        "!cat espnet/egs/an4/asr1/dump/test/deltafalse/data.json | grep \"ricardo\""
      ],
      "execution_count": 27,
      "outputs": [
        {
          "output_type": "stream",
          "text": [
            "        \"ricardo_rec1\": {\n",
            "            \"utt2spk\": \"ricardo\"\n",
            "        \"ricardo_rec2\": {\n",
            "            \"utt2spk\": \"ricardo\"\n"
          ],
          "name": "stdout"
        }
      ]
    },
    {
      "cell_type": "code",
      "metadata": {
        "id": "ozgS7mcLgy5r",
        "colab_type": "code",
        "colab": {
          "base_uri": "https://localhost:8080/",
          "height": 800
        },
        "outputId": "8d1f7c46-9e98-40bc-b8bb-bd1a79e8cf74"
      },
      "source": [
        "# 9.8 Insert your code below this line, before running this cell:\n",
        "!cd espnet/egs/an4/asr1; source path.sh; \\\n",
        "  ./run.sh --stage 5 --decode-config $(change_yaml.py conf/decode_ctcweight0.5.yaml -a batchsize=0) --train-config conf/train_mtlalpha0.5.yaml\n",
        "\n",
        "!cd espnet/egs/an4/asr1; source path.sh; \\\n",
        "  ./run.sh --stage 5 --decode-config $(change_yaml.py conf/decode_ctcweight1.0.yaml -a batchsize=0) --train-config conf/train_mtlalpha0.5.yaml"
      ],
      "execution_count": 78,
      "outputs": [
        {
          "output_type": "stream",
          "text": [
            "dictionary: data/lang_1char/train_nodev_units.txt\n",
            "stage 5: Decoding\n",
            "2020-06-01 11:53:57,040 (splitjson:43) INFO: /usr/bin/python3 /content/espnet/egs/an4/asr1/../../../utils/splitjson.py --parts 8 dump/train_dev/deltafalse/data.json\n",
            "2020-06-01 11:53:57,041 (splitjson:55) INFO: number of utterances = 100\n",
            "2020-06-01 11:53:57,055 (splitjson:43) INFO: /usr/bin/python3 /content/espnet/egs/an4/asr1/../../../utils/splitjson.py --parts 8 dump/test/deltafalse/data.json\n",
            "2020-06-01 11:53:57,056 (splitjson:55) INFO: number of utterances = 134\n",
            "2020-06-01 12:03:15,413 (concatjson:36) INFO: /usr/bin/python3 /content/espnet/egs/an4/asr1/../../../utils/concatjson.py exp/train_nodev_pytorch_train_mtlalpha0.5/decode_train_dev_decode_ctcweight0.5_batchsize0_lm_word100/data.1.json exp/train_nodev_pytorch_train_mtlalpha0.5/decode_train_dev_decode_ctcweight0.5_batchsize0_lm_word100/data.2.json exp/train_nodev_pytorch_train_mtlalpha0.5/decode_train_dev_decode_ctcweight0.5_batchsize0_lm_word100/data.3.json exp/train_nodev_pytorch_train_mtlalpha0.5/decode_train_dev_decode_ctcweight0.5_batchsize0_lm_word100/data.4.json exp/train_nodev_pytorch_train_mtlalpha0.5/decode_train_dev_decode_ctcweight0.5_batchsize0_lm_word100/data.5.json exp/train_nodev_pytorch_train_mtlalpha0.5/decode_train_dev_decode_ctcweight0.5_batchsize0_lm_word100/data.6.json exp/train_nodev_pytorch_train_mtlalpha0.5/decode_train_dev_decode_ctcweight0.5_batchsize0_lm_word100/data.7.json exp/train_nodev_pytorch_train_mtlalpha0.5/decode_train_dev_decode_ctcweight0.5_batchsize0_lm_word100/data.8.json\n",
            "2020-06-01 12:03:15,422 (concatjson:46) INFO: new json has 100 utterances\n",
            "2020-06-01 12:03:16,410 (json2trn:44) INFO: /usr/bin/python3 /content/espnet/egs/an4/asr1/../../../utils/json2trn.py exp/train_nodev_pytorch_train_mtlalpha0.5/decode_train_dev_decode_ctcweight0.5_batchsize0_lm_word100/data.json data/lang_1char/train_nodev_units.txt --num-spkrs 1 --refs exp/train_nodev_pytorch_train_mtlalpha0.5/decode_train_dev_decode_ctcweight0.5_batchsize0_lm_word100/ref.trn --hyps exp/train_nodev_pytorch_train_mtlalpha0.5/decode_train_dev_decode_ctcweight0.5_batchsize0_lm_word100/hyp.trn\n",
            "2020-06-01 12:03:16,410 (json2trn:46) INFO: reading exp/train_nodev_pytorch_train_mtlalpha0.5/decode_train_dev_decode_ctcweight0.5_batchsize0_lm_word100/data.json\n",
            "2020-06-01 12:03:16,424 (json2trn:50) INFO: reading data/lang_1char/train_nodev_units.txt\n",
            "write a CER (or TER) result in exp/train_nodev_pytorch_train_mtlalpha0.5/decode_train_dev_decode_ctcweight0.5_batchsize0_lm_word100/result.txt\n",
            "|   SPKR      |   # Snt      # Wrd    |   Corr         Sub        Del         Ins         Err       S.Err    |\n",
            "|   Sum/Avg   |    100        1915    |   79.8         7.4       12.7         1.8        22.0        71.0    |\n",
            "2020-06-01 12:05:01,301 (concatjson:36) INFO: /usr/bin/python3 /content/espnet/egs/an4/asr1/../../../utils/concatjson.py exp/train_nodev_pytorch_train_mtlalpha0.5/decode_test_decode_ctcweight0.5_batchsize0_lm_word100/data.1.json exp/train_nodev_pytorch_train_mtlalpha0.5/decode_test_decode_ctcweight0.5_batchsize0_lm_word100/data.2.json exp/train_nodev_pytorch_train_mtlalpha0.5/decode_test_decode_ctcweight0.5_batchsize0_lm_word100/data.3.json exp/train_nodev_pytorch_train_mtlalpha0.5/decode_test_decode_ctcweight0.5_batchsize0_lm_word100/data.4.json exp/train_nodev_pytorch_train_mtlalpha0.5/decode_test_decode_ctcweight0.5_batchsize0_lm_word100/data.5.json exp/train_nodev_pytorch_train_mtlalpha0.5/decode_test_decode_ctcweight0.5_batchsize0_lm_word100/data.6.json exp/train_nodev_pytorch_train_mtlalpha0.5/decode_test_decode_ctcweight0.5_batchsize0_lm_word100/data.7.json exp/train_nodev_pytorch_train_mtlalpha0.5/decode_test_decode_ctcweight0.5_batchsize0_lm_word100/data.8.json\n",
            "2020-06-01 12:05:01,302 (concatjson:46) INFO: new json has 134 utterances\n",
            "2020-06-01 12:05:01,648 (json2trn:44) INFO: /usr/bin/python3 /content/espnet/egs/an4/asr1/../../../utils/json2trn.py exp/train_nodev_pytorch_train_mtlalpha0.5/decode_test_decode_ctcweight0.5_batchsize0_lm_word100/data.json data/lang_1char/train_nodev_units.txt --num-spkrs 1 --refs exp/train_nodev_pytorch_train_mtlalpha0.5/decode_test_decode_ctcweight0.5_batchsize0_lm_word100/ref.trn --hyps exp/train_nodev_pytorch_train_mtlalpha0.5/decode_test_decode_ctcweight0.5_batchsize0_lm_word100/hyp.trn\n",
            "2020-06-01 12:05:01,649 (json2trn:46) INFO: reading exp/train_nodev_pytorch_train_mtlalpha0.5/decode_test_decode_ctcweight0.5_batchsize0_lm_word100/data.json\n",
            "2020-06-01 12:05:01,650 (json2trn:50) INFO: reading data/lang_1char/train_nodev_units.txt\n",
            "write a CER (or TER) result in exp/train_nodev_pytorch_train_mtlalpha0.5/decode_test_decode_ctcweight0.5_batchsize0_lm_word100/result.txt\n",
            "|   SPKR      |   # Snt     # Wrd    |   Corr        Sub        Del        Ins         Err      S.Err   |\n",
            "|   Sum/Avg   |    134       2740    |   83.6        8.4        8.0        2.6        19.0       65.7   |\n",
            "dictionary: data/lang_1char/train_nodev_units.txt\n",
            "stage 5: Decoding\n",
            "2020-06-01 12:05:03,265 (splitjson:43) INFO: /usr/bin/python3 /content/espnet/egs/an4/asr1/../../../utils/splitjson.py --parts 8 dump/train_dev/deltafalse/data.json\n",
            "2020-06-01 12:05:03,266 (splitjson:55) INFO: number of utterances = 100\n",
            "2020-06-01 12:05:03,267 (splitjson:43) INFO: /usr/bin/python3 /content/espnet/egs/an4/asr1/../../../utils/splitjson.py --parts 8 dump/test/deltafalse/data.json\n",
            "2020-06-01 12:05:03,268 (splitjson:55) INFO: number of utterances = 134\n",
            "2020-06-01 12:12:48,693 (concatjson:36) INFO: /usr/bin/python3 /content/espnet/egs/an4/asr1/../../../utils/concatjson.py exp/train_nodev_pytorch_train_mtlalpha0.5/decode_train_dev_decode_ctcweight1.0_batchsize0_lm_word100/data.1.json exp/train_nodev_pytorch_train_mtlalpha0.5/decode_train_dev_decode_ctcweight1.0_batchsize0_lm_word100/data.2.json exp/train_nodev_pytorch_train_mtlalpha0.5/decode_train_dev_decode_ctcweight1.0_batchsize0_lm_word100/data.3.json exp/train_nodev_pytorch_train_mtlalpha0.5/decode_train_dev_decode_ctcweight1.0_batchsize0_lm_word100/data.4.json exp/train_nodev_pytorch_train_mtlalpha0.5/decode_train_dev_decode_ctcweight1.0_batchsize0_lm_word100/data.5.json exp/train_nodev_pytorch_train_mtlalpha0.5/decode_train_dev_decode_ctcweight1.0_batchsize0_lm_word100/data.6.json exp/train_nodev_pytorch_train_mtlalpha0.5/decode_train_dev_decode_ctcweight1.0_batchsize0_lm_word100/data.7.json exp/train_nodev_pytorch_train_mtlalpha0.5/decode_train_dev_decode_ctcweight1.0_batchsize0_lm_word100/data.8.json\n",
            "2020-06-01 12:12:48,701 (concatjson:46) INFO: new json has 100 utterances\n",
            "2020-06-01 12:12:49,874 (json2trn:44) INFO: /usr/bin/python3 /content/espnet/egs/an4/asr1/../../../utils/json2trn.py exp/train_nodev_pytorch_train_mtlalpha0.5/decode_train_dev_decode_ctcweight1.0_batchsize0_lm_word100/data.json data/lang_1char/train_nodev_units.txt --num-spkrs 1 --refs exp/train_nodev_pytorch_train_mtlalpha0.5/decode_train_dev_decode_ctcweight1.0_batchsize0_lm_word100/ref.trn --hyps exp/train_nodev_pytorch_train_mtlalpha0.5/decode_train_dev_decode_ctcweight1.0_batchsize0_lm_word100/hyp.trn\n",
            "2020-06-01 12:12:49,875 (json2trn:46) INFO: reading exp/train_nodev_pytorch_train_mtlalpha0.5/decode_train_dev_decode_ctcweight1.0_batchsize0_lm_word100/data.json\n",
            "2020-06-01 12:12:49,877 (json2trn:50) INFO: reading data/lang_1char/train_nodev_units.txt\n",
            "write a CER (or TER) result in exp/train_nodev_pytorch_train_mtlalpha0.5/decode_train_dev_decode_ctcweight1.0_batchsize0_lm_word100/result.txt\n",
            "|   SPKR      |   # Snt      # Wrd    |   Corr         Sub        Del         Ins         Err       S.Err    |\n",
            "|   Sum/Avg   |    100        1915    |   82.7         6.1       11.2         1.0        18.3        66.0    |\n",
            "2020-06-01 12:14:09,433 (concatjson:36) INFO: /usr/bin/python3 /content/espnet/egs/an4/asr1/../../../utils/concatjson.py exp/train_nodev_pytorch_train_mtlalpha0.5/decode_test_decode_ctcweight1.0_batchsize0_lm_word100/data.1.json exp/train_nodev_pytorch_train_mtlalpha0.5/decode_test_decode_ctcweight1.0_batchsize0_lm_word100/data.2.json exp/train_nodev_pytorch_train_mtlalpha0.5/decode_test_decode_ctcweight1.0_batchsize0_lm_word100/data.3.json exp/train_nodev_pytorch_train_mtlalpha0.5/decode_test_decode_ctcweight1.0_batchsize0_lm_word100/data.4.json exp/train_nodev_pytorch_train_mtlalpha0.5/decode_test_decode_ctcweight1.0_batchsize0_lm_word100/data.5.json exp/train_nodev_pytorch_train_mtlalpha0.5/decode_test_decode_ctcweight1.0_batchsize0_lm_word100/data.6.json exp/train_nodev_pytorch_train_mtlalpha0.5/decode_test_decode_ctcweight1.0_batchsize0_lm_word100/data.7.json exp/train_nodev_pytorch_train_mtlalpha0.5/decode_test_decode_ctcweight1.0_batchsize0_lm_word100/data.8.json\n",
            "2020-06-01 12:14:09,434 (concatjson:46) INFO: new json has 134 utterances\n",
            "2020-06-01 12:14:09,782 (json2trn:44) INFO: /usr/bin/python3 /content/espnet/egs/an4/asr1/../../../utils/json2trn.py exp/train_nodev_pytorch_train_mtlalpha0.5/decode_test_decode_ctcweight1.0_batchsize0_lm_word100/data.json data/lang_1char/train_nodev_units.txt --num-spkrs 1 --refs exp/train_nodev_pytorch_train_mtlalpha0.5/decode_test_decode_ctcweight1.0_batchsize0_lm_word100/ref.trn --hyps exp/train_nodev_pytorch_train_mtlalpha0.5/decode_test_decode_ctcweight1.0_batchsize0_lm_word100/hyp.trn\n",
            "2020-06-01 12:14:09,782 (json2trn:46) INFO: reading exp/train_nodev_pytorch_train_mtlalpha0.5/decode_test_decode_ctcweight1.0_batchsize0_lm_word100/data.json\n",
            "2020-06-01 12:14:09,783 (json2trn:50) INFO: reading data/lang_1char/train_nodev_units.txt\n",
            "write a CER (or TER) result in exp/train_nodev_pytorch_train_mtlalpha0.5/decode_test_decode_ctcweight1.0_batchsize0_lm_word100/result.txt\n",
            "|   SPKR      |   # Snt     # Wrd    |   Corr        Sub        Del        Ins         Err      S.Err   |\n",
            "|   Sum/Avg   |    134       2740    |   85.7        6.7        7.6        1.4        15.7       60.4   |\n"
          ],
          "name": "stdout"
        }
      ]
    },
    {
      "cell_type": "code",
      "metadata": {
        "id": "c08fR_Cxg51A",
        "colab_type": "code",
        "colab": {
          "base_uri": "https://localhost:8080/",
          "height": 176
        },
        "outputId": "79605980-e2d5-421a-97e7-ee472c23e864"
      },
      "source": [
        "# 9.9 Insert your code below this line, before running this cell:\n",
        "!ls espnet/egs/an4/asr1/exp/train_nodev_pytorch_train_mtlalpha1.0/*/result.txt | xargs -n1 grep -e Avg -e SPK -m 2\n",
        "!head -n 36 espnet/egs/an4/asr1/exp/train_nodev_pytorch_train_mtlalpha1.0/decode_test_decode_ctcweight0.5_batchsize0_lm_word100/result.txt\n",
        "!head -n 36 espnet/egs/an4/asr1/exp/train_nodev_pytorch_train_mtlalpha1.0/decode_test_decode_ctcweight1.0_batchsize0_lm_word100/result.txt"
      ],
      "execution_count": 39,
      "outputs": [
        {
          "output_type": "stream",
          "text": [
            "|   SPKR      |   # Snt     # Wrd    |   Corr        Sub        Del        Ins         Err      S.Err   |\n",
            "|   Sum/Avg   |    134       2740    |   82.8        7.2        9.9        2.0        19.1       67.2   |\n",
            "|   SPKR      |   # Snt     # Wrd    |   Corr        Sub        Del        Ins         Err      S.Err   |\n",
            "|   Sum/Avg   |    134       2740    |   87.2        6.2        6.6        0.9        13.8       56.0   |\n",
            "|   SPKR      |   # Snt      # Wrd    |   Corr         Sub        Del         Ins         Err       S.Err    |\n",
            "|   Sum/Avg   |    100        1915    |   76.8         7.2       16.0         1.6        24.9        76.0    |\n",
            "|   SPKR      |   # Snt      # Wrd    |   Corr         Sub        Del         Ins         Err       S.Err    |\n",
            "|   Sum/Avg   |    100        1915    |   82.9         6.0       11.1         1.6        18.7        70.0    |\n"
          ],
          "name": "stdout"
        }
      ]
    },
    {
      "cell_type": "code",
      "metadata": {
        "id": "NQUROuVPg7Mh",
        "colab_type": "code",
        "colab": {
          "base_uri": "https://localhost:8080/",
          "height": 141
        },
        "outputId": "52b602e3-9af2-444b-c4ed-75a0f8db68bc"
      },
      "source": [
        "# 9.10 Insert your code below this line, before running this cell:\n",
        "# First 2 results correspond to decode_ctcweigth0.5.yaml \n",
        "# Last 2 lines correspond to decode_ctcweigth1.0.yaml \n",
        "!ls espnet/egs/an4/asr1/exp/train_nodev_pytorch_train_mtlalpha0.5/decode_test_decode_ctcweight0.5_batchsize0_lm_word100/result.txt | xargs -n1 grep -e goncalo -e ricardo -e SPK -m 3\n",
        "!ls espnet/egs/an4/asr1/exp/train_nodev_pytorch_train_mtlalpha0.5/decode_test_decode_ctcweight1.0_batchsize0_lm_word100/result.txt | xargs -n1 grep -e goncalo -e ricardo -e SPK -m 3"
      ],
      "execution_count": 80,
      "outputs": [
        {
          "output_type": "stream",
          "text": [
            "|   SPKR      |   # Snt     # Wrd    |   Corr        Sub        Del        Ins         Err      S.Err   |\n",
            "|   goncalo   |      2        109    |   39.4       42.2       18.3       36.7        97.2      100.0   |\n",
            "|   ricardo   |      2         66    |   39.4       22.7       37.9        1.5        62.1      100.0   |\n",
            "|   SPKR      |   # Snt     # Wrd    |   Corr        Sub        Del        Ins         Err      S.Err   |\n",
            "|   goncalo   |      2        109    |   36.7       44.0       19.3       23.9        87.2      100.0   |\n",
            "|   ricardo   |      2         66    |   37.9       24.2       37.9        3.0        65.2      100.0   |\n"
          ],
          "name": "stdout"
        }
      ]
    },
    {
      "cell_type": "markdown",
      "metadata": {
        "id": "1OccVfqDbsmw",
        "colab_type": "text"
      },
      "source": [
        "## Thanks for your attention"
      ]
    }
  ]
}